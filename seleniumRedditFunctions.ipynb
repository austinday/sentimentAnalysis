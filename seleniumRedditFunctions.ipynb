{
 "cells": [
  {
   "cell_type": "code",
   "execution_count": null,
   "metadata": {
    "collapsed": true
   },
   "outputs": [],
   "source": [
    "def getCommentLinks(driver):\n",
    "    elems = driver.find_elements_by_xpath(\"//a[@href]\")\n",
    "    linkText = []\n",
    "    linkUrl = []\n",
    "    for x in elems: \n",
    "        linkText.append(x.text)\n",
    "        linkUrl.append(x.get_attribute(\"href\"))\n",
    "    tempHash = {}\n",
    "    commentLinks = []\n",
    "    for link in linkUrls: \n",
    "        m = re.search(\"reddit.*[nN][eE][oO].*comments\", link)\n",
    "        if m: \n",
    "            tempHash[link] = 1\n",
    "    for link in tempHash: \n",
    "        commentLinks.append(link)\n",
    "    return commentLinks"
   ]
  },
  {
   "cell_type": "code",
   "execution_count": null,
   "metadata": {
    "collapsed": true
   },
   "outputs": [],
   "source": [
    "def getThreadsAndLinksFromReddit(driver):\n",
    "    a=[];\n",
    "    a = driver.find_elements_by_class_name(\"title\")\n",
    "    pageInformation = []\n",
    "    for elem in a:\n",
    "        titleToLinkHash = {}\n",
    "        titleToLinkHash[elem.text] = elem.get_attribute(\"href\")\n",
    "        pageInformation.append(titleToLinkHash)\n",
    "    return pageInformation"
   ]
  },
  {
   "cell_type": "code",
   "execution_count": null,
   "metadata": {
    "collapsed": true
   },
   "outputs": [],
   "source": [
    "#return all threads on current page\n",
    "def get_page_info(driver):\n",
    "    site_table = driver.find_element_by_xpath(\"//*[@id = 'siteTable']\")\n",
    "    div_tags = site_table.find_elements_by_xpath(\"./div[contains(@class, 'thing')]\")\n",
    "    page = []\n",
    "\n",
    "    i = 0\n",
    "    while i < len(div_tags):\n",
    "        rank = get_rank(div_tags[i])\n",
    "        score = get_score(div_tags[i])\n",
    "        time = get_time_stamp(div_tags[i])\n",
    "        sub = get_sub_reddit(div_tags[i])\n",
    "        comments = get_comments(div_tags[i])\n",
    "        link = get_link(div_tags[i])\n",
    "        page.append([rank, score, comments, time, sub, link])\n",
    "        i = i + 1\n",
    "\n",
    "    return page"
   ]
  },
  {
   "cell_type": "code",
   "execution_count": null,
   "metadata": {
    "collapsed": true
   },
   "outputs": [],
   "source": [
    "#return rank\n",
    "def get_rank(we):\n",
    "    rank = we.find_element_by_xpath(\".//*[@class = 'rank']\").text\n",
    "    rank = rank.encode(\"utf_8\")\n",
    "    print(rank)\n",
    "    return int(rank)"
   ]
  }
 ],
 "metadata": {
  "kernelspec": {
   "display_name": "Python 3",
   "language": "python",
   "name": "python3"
  },
  "language_info": {
   "codemirror_mode": {
    "name": "ipython",
    "version": 3
   },
   "file_extension": ".py",
   "mimetype": "text/x-python",
   "name": "python",
   "nbconvert_exporter": "python",
   "pygments_lexer": "ipython3",
   "version": "3.6.4"
  }
 },
 "nbformat": 4,
 "nbformat_minor": 2
}
