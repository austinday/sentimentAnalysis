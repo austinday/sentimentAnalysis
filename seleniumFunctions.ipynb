{
 "cells": [
  {
   "cell_type": "code",
   "execution_count": 1,
   "metadata": {
    "collapsed": true
   },
   "outputs": [],
   "source": [
    "from selenium import webdriver\n",
    "from selenium.webdriver.common.keys import Keys"
   ]
  },
  {
   "cell_type": "code",
   "execution_count": 2,
   "metadata": {
    "collapsed": true
   },
   "outputs": [],
   "source": [
    "def createSeleniumWebdriver(address):\n",
    "    driver = webdriver.Chrome()\n",
    "    driver.get(address)\n",
    "    return driver\n",
    "\n",
    "def getWebpageTextAndLinksSelenium(address):\n",
    "    text = None\n",
    "    urls = []\n",
    "    \n",
    "    driver = createSeleniumWebdriver(address)\n",
    "    \n",
    "    driver.set_page_load_timeout(60)\n",
    "    \n",
    "    el=driver.find_element_by_tag_name(\"body\")\n",
    "    text = el.text\n",
    "    \n",
    "    elems = driver.find_elements_by_xpath(\"//a[@href]\")\n",
    "    for elem in elems:\n",
    "        urls.append(elem.get_attribute(\"href\"))\n",
    "    \n",
    "    #driver.close()\n",
    "    return (text, urls)\n",
    "\n",
    "def getWebpageTextAndLinksSelenium(address, driver):\n",
    "    text = None\n",
    "    urls = []\n",
    "    \n",
    "    driver.get(address)\n",
    "    \n",
    "    driver.set_page_load_timeout(60)\n",
    "    \n",
    "    el=driver.find_element_by_tag_name(\"body\")\n",
    "    text = el.text\n",
    "    \n",
    "    elems = driver.find_elements_by_xpath(\"//a[@href]\")\n",
    "    for elem in elems:\n",
    "        urls.append(elem.get_attribute(\"href\"))\n",
    "    \n",
    "    #driver.close()\n",
    "    return (text, urls)\n",
    "\n",
    "#Get all links\n",
    "def getLinkInfo(driver):\n",
    "    #continue_link = driver.find_element_by_tag_name('a')\n",
    "    elems = driver.find_elements_by_xpath(\"//a[@href]\")\n",
    "    linkText = []\n",
    "    linkUrl = []\n",
    "    for x in elems: \n",
    "        linkText.append(x.text)\n",
    "        linkUrl.append(x.get_attribute(\"href\"))\n",
    "    linkInfo = (linkText, linkUrl)\n",
    "    return linkInfo\n",
    "\n",
    "def login():\n",
    "    driver.get(url)\n",
    "\n",
    "    uname = driver.find_element_by_name(\"username\") # find by element name\n",
    "    uname.send_keys(username)  # enters the username in textbox\n",
    "\n",
    "    passw = driver.find_element_by_name(\"password\")\n",
    "    passw.send_keys(password)  # enters the password in textbox\n",
    "\n",
    "\n",
    "    # Find the submit button using class name and click on it.\n",
    "    submit_button = driver.find_element_by_class_name(\"loginbtn\").click()\n",
    "\n",
    "def get_text_excluding_children(driver, element):\n",
    "    return self.driver.execute_script(\"\"\"\n",
    "var parent = arguments[0];\n",
    "var child = parent.firstChild;\n",
    "var ret = \"\";def getAllIds(driver):\n",
    "    ids = driver.find_elements_by_xpath('//*[@id]')\n",
    "    return ids\n",
    "while(child) {\n",
    "    if (child.nodeType === Node.TEXT_NODE)\n",
    "        ret += child.textContent;\n",
    "    child = child.nextSibling;\n",
    "}\n",
    "return ret;\n",
    "\"\"\", element)\n",
    "\n",
    "def getAllIds(driver):\n",
    "    ids = driver.find_elements_by_xpath('//*[@id]')\n",
    "    return ids"
   ]
  },
  {
   "cell_type": "code",
   "execution_count": null,
   "metadata": {
    "collapsed": true
   },
   "outputs": [],
   "source": []
  }
 ],
 "metadata": {
  "kernelspec": {
   "display_name": "Python 3",
   "language": "python",
   "name": "python3"
  },
  "language_info": {
   "codemirror_mode": {
    "name": "ipython",
    "version": 3
   },
   "file_extension": ".py",
   "mimetype": "text/x-python",
   "name": "python",
   "nbconvert_exporter": "python",
   "pygments_lexer": "ipython3",
   "version": "3.6.4"
  }
 },
 "nbformat": 4,
 "nbformat_minor": 2
}
