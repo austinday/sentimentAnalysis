{
 "cells": [
  {
   "cell_type": "code",
   "execution_count": null,
   "metadata": {
    "collapsed": true
   },
   "outputs": [],
   "source": []
  },
  {
   "cell_type": "code",
   "execution_count": 1,
   "metadata": {
    "collapsed": true
   },
   "outputs": [],
   "source": [
    "def makeWordCloud(text, fileName): \n",
    "\n",
    "    from os import path\n",
    "    from wordcloud import WordCloud\n",
    "\n",
    "    #d = path.dirname(__file__)\n",
    "\n",
    "    # Read the whole text.\n",
    "    #text = open(path.join(d, 'constitution.txt')).read()\n",
    "\n",
    "    # Generate a word cloud image\n",
    "    wordcloud = WordCloud(background_color = \"white\", max_font_size=500, width=2560, height=1440, max_words=500, scale=1).generate(text)\n",
    "\n",
    "    # Display the generated image:\n",
    "    # the matplotlib way:\n",
    "    import matplotlib.pyplot as plt\n",
    "    plt.imshow(wordcloud, interpolation='bilinear')\n",
    "    plt.axis(\"off\")\n",
    "    plt.show()\n",
    "\n",
    "    wordcloud.to_file(fileName+\".jpg\")\n",
    "    # The pil way (if you don't have matplotlib)\n",
    "    #image = wordcloud.to_image()\n",
    "    #image.show()"
   ]
  },
  {
   "cell_type": "code",
   "execution_count": null,
   "metadata": {
    "collapsed": true
   },
   "outputs": [],
   "source": []
  }
 ],
 "metadata": {
  "kernelspec": {
   "display_name": "Python 3",
   "language": "python",
   "name": "python3"
  },
  "language_info": {
   "codemirror_mode": {
    "name": "ipython",
    "version": 3
   },
   "file_extension": ".py",
   "mimetype": "text/x-python",
   "name": "python",
   "nbconvert_exporter": "python",
   "pygments_lexer": "ipython3",
   "version": "3.6.4"
  }
 },
 "nbformat": 4,
 "nbformat_minor": 2
}
